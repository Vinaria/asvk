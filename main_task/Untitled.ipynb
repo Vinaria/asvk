{
 "cells": [
  {
   "cell_type": "code",
   "execution_count": 3,
   "id": "3a776e89-891a-4278-bb50-c5e0861697e9",
   "metadata": {
    "tags": []
   },
   "outputs": [
    {
     "data": {
      "text/plain": [
       "('Hello', 'Hello, vin!')"
      ]
     },
     "execution_count": 3,
     "metadata": {},
     "output_type": "execute_result"
    }
   ],
   "source": [
    "def hello(x = None):\n",
    "    if x:\n",
    "        return 'Hello, ' + x + '!'\n",
    "    else:\n",
    "        return 'Hello'\n",
    "\n",
    "hello(), hello('vin')"
   ]
  },
  {
   "cell_type": "code",
   "execution_count": 12,
   "id": "18784834-24c7-4764-a49c-703d14ac80f6",
   "metadata": {
    "tags": []
   },
   "outputs": [
    {
     "data": {
      "text/plain": [
       "'MCMXCVI'"
      ]
     },
     "execution_count": 12,
     "metadata": {},
     "output_type": "execute_result"
    }
   ],
   "source": [
    "def int_to_roman(num):\n",
    "    res = ''\n",
    "    while num:\n",
    "        if num >= 1000: \n",
    "            num -= 1000\n",
    "            res += 'M'\n",
    "        elif num >= 900:\n",
    "            num -= 900\n",
    "            res += 'CM'\n",
    "        elif num >= 500:\n",
    "            num -= 500\n",
    "            res += 'D'\n",
    "        elif num  >= 400:\n",
    "            num -= 400\n",
    "            res += 'CD'\n",
    "        elif num >= 100:\n",
    "            num -= 100\n",
    "            res += 'C'\n",
    "        elif num >= 90:\n",
    "            num -= 90\n",
    "            res += 'XC'\n",
    "        elif num >= 50:\n",
    "            num -= 50\n",
    "            res += 'L'\n",
    "        elif num >= 40:\n",
    "            num -= 40\n",
    "            res += 'XL'\n",
    "        elif num >= 10:\n",
    "            num -= 10\n",
    "            res += 'X'\n",
    "        elif num >= 9:\n",
    "            num -= 9\n",
    "            res += 'IX'\n",
    "        elif num >= 5:\n",
    "            num -=5\n",
    "            res += 'V'\n",
    "        elif num >= 4:\n",
    "            num -= 4\n",
    "            res += 'IV'\n",
    "        elif num >= 1:\n",
    "            num -= 1\n",
    "            res += 'I'\n",
    "        \n",
    "    return res\n",
    "\n",
    "int_to_roman(1996)"
   ]
  },
  {
   "cell_type": "code",
   "execution_count": 37,
   "id": "07944ba5-b43c-41a3-ad80-f4d33d8e1087",
   "metadata": {
    "tags": []
   },
   "outputs": [
    {
     "name": "stdout",
     "output_type": "stream",
     "text": [
      "['flo', 'flo', 'flo']\n"
     ]
    },
    {
     "data": {
      "text/plain": [
       "'flo'"
      ]
     },
     "execution_count": 37,
     "metadata": {},
     "output_type": "execute_result"
    }
   ],
   "source": [
    "from typing import List\n",
    "def longest_common_prefix(strs):\n",
    "    for i in range(0, len(strs)):\n",
    "                   strs[i] = strs[i].strip()\n",
    "    print(strs)\n",
    "    i = 1\n",
    "    res = ''\n",
    "    running = True\n",
    "    minlen = min([len(s) for s in strs])\n",
    "    while running and i <= minlen:\n",
    "        res = strs[0][0:i]\n",
    "        for s in strs:\n",
    "            if s[0:i] != res:\n",
    "\n",
    "                res = res[0:-1]\n",
    "                running = False\n",
    "                break\n",
    "        i += 1\n",
    "    return res\n",
    "\n",
    "longest_common_prefix([\" flo\",\"flo\",\"flo\"])"
   ]
  },
  {
   "cell_type": "code",
   "execution_count": 38,
   "id": "9d716b12-14c5-448e-a452-1de60d73f05f",
   "metadata": {
    "tags": []
   },
   "outputs": [
    {
     "name": "stdout",
     "output_type": "stream",
     "text": [
      "10\n",
      "1\n",
      "You spent 5 dollars\n",
      "5\n",
      "To learn the balance call balance.\n",
      "5\n",
      "Not enough money to spend 6 dollars.\n",
      "You spent 5 dollars\n",
      "Balance check limits exceeded.\n",
      "You put 2 dollars.\n",
      "2\n"
     ]
    }
   ],
   "source": [
    "class BankCard:\n",
    "    def __init__(self, total, limit = -1):\n",
    "        self.total_sum = total\n",
    "        self.balance_limit = limit\n",
    "    \n",
    "    def put(self, sum_put):\n",
    "        self.total_sum += sum_put\n",
    "        print(\"You put\", sum_put, \"dollars.\")\n",
    "    \n",
    "    def __call__(self, sum_spent):\n",
    "        if sum_spent > self.total_sum:\n",
    "            print(\"Not enough money to spend\", sum_spent, \"dollars.\")\n",
    "            raise ValueError\n",
    "        \n",
    "        self.total_sum -= sum_spent\n",
    "        print(\"You spent\", sum_spent, \"dollars\")\n",
    "    \n",
    "    def __repr__(self):\n",
    "        return \"To learn the balance call balance.\"\n",
    "    \n",
    "    @property\n",
    "    def balance(self):\n",
    "        if self.balance_limit:\n",
    "            self.balance_limit -= 1\n",
    "            return self.total_sum\n",
    "        \n",
    "        print(\"Balance check limits exceeded.\")\n",
    "        raise ValueError\n",
    "        \n",
    "        \n",
    "    \n",
    "    def __add__(self, other):\n",
    "        if min( self.balance_limit, other.balance_limit ) == -1:\n",
    "            new_limit = -1\n",
    "        else:\n",
    "            new_limit = max( self.balance_limit, other.balance_limit )\n",
    "        return BankCard(self.total_sum + other.total_sum, new_limit)\n",
    "    \n",
    "a = BankCard(10, 2)\n",
    "print(a.balance) # 10\n",
    "print(a.balance_limit) # 1\n",
    "a(5) # You spent 5 dollars.\n",
    "print(a.total_sum) # 5\n",
    "print(a) # To learn the balance call balance.\n",
    "print(a.balance) # 5\n",
    "try:\n",
    "    a(6) # Not enough money to spend 6 dollars.\n",
    "except ValueError:\n",
    "    pass\n",
    "a(5) # You spent 5 dollars.\n",
    "try:\n",
    "    a.balance # Balance check limits exceeded.\n",
    "except ValueError:\n",
    "    pass\n",
    "a.put(2) # You put 2 dollars.\n",
    "print(a.total_sum) # 2\n"
   ]
  },
  {
   "cell_type": "code",
   "execution_count": 47,
   "id": "a531f200-6477-4af4-b5fa-bca82fa99617",
   "metadata": {
    "tags": []
   },
   "outputs": [
    {
     "name": "stdout",
     "output_type": "stream",
     "text": [
      "2\n",
      "3\n",
      "5\n",
      "7\n",
      "11\n",
      "13\n",
      "17\n"
     ]
    }
   ],
   "source": [
    "def primes():\n",
    "    i = 2;\n",
    "    while True:\n",
    "        flag = True\n",
    "        for j in range (2, int(i/2 + 1)):\n",
    "            if i % j == 0:\n",
    "                flag = False\n",
    "                break;\n",
    "        if flag:\n",
    "            yield i\n",
    "            \n",
    "        i += 1\n",
    "\n",
    "for k in primes():\n",
    "    print(k)\n",
    "    if k > 16:\n",
    "        break       "
   ]
  },
  {
   "cell_type": "code",
   "execution_count": 3,
   "id": "ba385d5d-3d45-40a0-8c23-27f45ecef661",
   "metadata": {
    "tags": []
   },
   "outputs": [],
   "source": [
    "def check(s, filename):\n",
    "    words = s.split()\n",
    "    words = list(set(words))\n",
    "    vals = [0 for _ in range(0, len(words))]\n",
    "    with open(filename, 'r') as f:\n",
    "        while True:\n",
    "            word = f.read()\n",
    "            if not word:\n",
    "                break\n",
    "            for i in range(len(words)):\n",
    "                if words[i] == x:\n",
    "                    vals[i] += 1\n",
    "                    break\n",
    "    \n",
    "    with open(filename, 'w') as f:\n",
    "        for i in range(len(words)):\n",
    "            f.print(words[i], vals[i])\n",
    "\n",
    "            \n",
    "        "
   ]
  },
  {
   "cell_type": "code",
   "execution_count": 39,
   "id": "3276a285-f9df-4b5b-8097-03198c4fc4cb",
   "metadata": {},
   "outputs": [
    {
     "data": {
      "text/plain": [
       "(-2, 2)"
      ]
     },
     "execution_count": 39,
     "metadata": {},
     "output_type": "execute_result"
    }
   ],
   "source": [
    "class A(int):\n",
    "    def __init__(self):\n",
    "        pass\n",
    "\n",
    "def find_modified_max_argmax(L, f):\n",
    "    a = [f(x) for x in L if type(x) is int]\n",
    "    a = filter(lambda x: if type(x) is int )\n",
    "    return ( max(a), max(enumerate(a), key=lambda x: x[1])[0] ) if a else ()\n",
    "\n",
    "find_modified_max_argmax([\"str\", 4, 4.5, 2, '-2', '3', -8], lambda x: abs(x) - 10)"
   ]
  },
  {
   "cell_type": "code",
   "execution_count": null,
   "id": "615eeb1e-9466-4e89-b7db-d08c5357ab52",
   "metadata": {},
   "outputs": [],
   "source": []
  }
 ],
 "metadata": {
  "kernelspec": {
   "display_name": "Python 3 (ipykernel)",
   "language": "python",
   "name": "python3"
  },
  "language_info": {
   "codemirror_mode": {
    "name": "ipython",
    "version": 3
   },
   "file_extension": ".py",
   "mimetype": "text/x-python",
   "name": "python",
   "nbconvert_exporter": "python",
   "pygments_lexer": "ipython3",
   "version": "3.11.4"
  }
 },
 "nbformat": 4,
 "nbformat_minor": 5
}
